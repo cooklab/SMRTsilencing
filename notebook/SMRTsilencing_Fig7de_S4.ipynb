{
 "cells": [
  {
   "cell_type": "code",
   "execution_count": 1,
   "metadata": {},
   "outputs": [],
   "source": [
    "import numpy as np\n",
    "import pandas as pd\n",
    "import seaborn as sns\n",
    "import matplotlib.pyplot as plt\n",
    "from matplotlib.gridspec import GridSpec\n",
    "import os\n",
    "import re\n",
    "\n",
    "from IPython.core.interactiveshell import InteractiveShell\n",
    "\n",
    "InteractiveShell.ast_node_interactivity = \"all\""
   ]
  },
  {
   "cell_type": "code",
   "execution_count": 2,
   "metadata": {},
   "outputs": [],
   "source": [
    "%load_ext slurm_magic\n",
    "#useful for Notebook submission to HPC, not required"
   ]
  },
  {
   "cell_type": "markdown",
   "metadata": {},
   "source": [
    "### Steps to process initial mapped BAM to bedgraph\n",
    "\n",
    "To process the mapped reads, one would need to download the fastq from NCBI as indicated on the landing page, map the reads to the Williams82 reference + GFP (provided in /data), and run the following on the .bam output. "
   ]
  },
  {
   "cell_type": "code",
   "execution_count": null,
   "metadata": {},
   "outputs": [],
   "source": [
    "%%bash\n",
    "# There is no bam mapping file for NPXZN:Luc-ET_1, it was not returned by JGI\n",
    "# this subsets the bam files from whole genome to just region of interest\n",
    "\n",
    "DIR=/homes/decook/data/jgiSoy/smRNA_Analysis/Alignments/\n",
    "\n",
    "for i in ${DIR}*.bam; do\n",
    "    samtools index ${i}\n",
    "    OUT=${i%.bam}_eGFP.bam\n",
    "    samtools view -b -h ${i} \"EGFP\" > ${OUT};\n",
    "done"
   ]
  },
  {
   "cell_type": "markdown",
   "metadata": {},
   "source": [
    "From the reads mapped only to the EGFP transcript from above, the below will summarize read coverage and output formated counts as:\n",
    "    - Transcript\n",
    "    - Start\n",
    "    - Stop\n",
    "    - Current base\n",
    "    - Current base read count\n",
    "    - Sample ID"
   ]
  },
  {
   "cell_type": "code",
   "execution_count": null,
   "metadata": {},
   "outputs": [],
   "source": [
    "%%bash\n",
    "\n",
    "module load HTSlib\n",
    "\n",
    "DIR=~/data/jgiSoy/smRNA_Analysis/\n",
    "cd ~/data/jgiSoy/smRNA_Analysis/Alignments/\n",
    "\n",
    "for i in *_eGFP.bam; do\n",
    "    OUT=${i%.bam}.bedtool.cov.txt\n",
    "    SAMPLE=${i%_eGFP.bam}\n",
    "    bedtools coverage -a ${DIR}eGFP.bed -b ${i} -d | \\\n",
    "    awk -v awkvar=\"$SAMPLE\" 'BEGIN{OFS=\"\\t\";} {print $0, awkvar}' - > \\\n",
    "    ${OUT};\n",
    "done"
   ]
  },
  {
   "cell_type": "markdown",
   "metadata": {},
   "source": [
    "### Analysis of per nucleotide read depth files in /data"
   ]
  },
  {
   "cell_type": "code",
   "execution_count": 3,
   "metadata": {},
   "outputs": [],
   "source": [
    "RunInfo_key = \"~/data/jgiSoy/SMRTsilencing/data/sRNA_LIBRARIES_headless.txt\"\n",
    "\n",
    "def load_SRAdata(SRA_RunInfo):\n",
    "    return pd.read_csv(SRA_RunInfo, sep=\"\\t\", header=0, index_col=False)\n",
    "\n",
    "SeqRun_sRNA_info = load_SRAdata(RunInfo_key)\n",
    "Dict_sRNALib2Name = SeqRun_sRNA_info.set_index('1=libraryName')['5=sampleName'].to_dict()"
   ]
  },
  {
   "cell_type": "code",
   "execution_count": 4,
   "metadata": {},
   "outputs": [],
   "source": [
    "InDir='/homes/decook/data/jgiSoy/smRNA_Analysis/Alignments/' \n",
    "src_files = [f for f in os.listdir(InDir) if re.match('(.)+(.bedtool.cov.txt)\\Z', f)]\n",
    "\n",
    "sub_df = [pd.read_csv(InDir+q, sep=\"\\t\", header=None, index_col=False,\n",
    "                      names=[\"target\",\"e_start\", \"e_end\", \"position\", \"sRNA_count\", \"library\"],\n",
    "                      dtype={\"sRNA_count\" : \"int64\"}) for q in src_files]\n",
    "\n",
    "sRNA_map = pd.concat(sub_df) \n",
    "sRNA_map['sample'] = sRNA_map['library'].map(Dict_sRNALib2Name)\n",
    "sRNA_map['sample'] =sRNA_map['sample'].map(lambda x:x.lstrip(\"'\").rstrip(\"'\"))"
   ]
  },
  {
   "cell_type": "code",
   "execution_count": 5,
   "metadata": {},
   "outputs": [],
   "source": [
    "# correctly mapped reads per library, generated with:\n",
    "#  samtools view -c -F 260 ${IN_BAM}\n",
    "Dict_total_sRNA= {'Luc-ET_2': 4790542,'Luc-ET_3': 8406123,\n",
    "                  'eGFP.m3g3.v2_6': 3573878,'eGFP.m3g3_8': 3533953,'eGFP.m3g3_9': 3280696,\n",
    "                  'eGFP.aseGFPv2_3': 835171,'eGFP.asGFP.v2_4': 2369055,'eGFP.aseGFP.v2_5': 918603,\n",
    "                  'Egfp m6g1-2.v2_8': 793061,'Egfp m6g1-2.v2_9': 4160432,'Egfp m6g1-2_10': 4391922}"
   ]
  },
  {
   "cell_type": "code",
   "execution_count": 7,
   "metadata": {},
   "outputs": [
    {
     "data": {
      "text/html": [
       "<div>\n",
       "<style scoped>\n",
       "    .dataframe tbody tr th:only-of-type {\n",
       "        vertical-align: middle;\n",
       "    }\n",
       "\n",
       "    .dataframe tbody tr th {\n",
       "        vertical-align: top;\n",
       "    }\n",
       "\n",
       "    .dataframe thead th {\n",
       "        text-align: right;\n",
       "    }\n",
       "</style>\n",
       "<table border=\"1\" class=\"dataframe\">\n",
       "  <thead>\n",
       "    <tr style=\"text-align: right;\">\n",
       "      <th></th>\n",
       "      <th>index</th>\n",
       "      <th>target</th>\n",
       "      <th>e_start</th>\n",
       "      <th>e_end</th>\n",
       "      <th>position</th>\n",
       "      <th>sRNA_count</th>\n",
       "      <th>library</th>\n",
       "      <th>sample</th>\n",
       "      <th>lib_total</th>\n",
       "      <th>CPM</th>\n",
       "    </tr>\n",
       "  </thead>\n",
       "  <tbody>\n",
       "    <tr>\n",
       "      <th>0</th>\n",
       "      <td>0</td>\n",
       "      <td>EGFP</td>\n",
       "      <td>1</td>\n",
       "      <td>720</td>\n",
       "      <td>1</td>\n",
       "      <td>0</td>\n",
       "      <td>NPXZP</td>\n",
       "      <td>eGFP.m3g3_8</td>\n",
       "      <td>3533953</td>\n",
       "      <td>0.000000</td>\n",
       "    </tr>\n",
       "    <tr>\n",
       "      <th>1</th>\n",
       "      <td>1</td>\n",
       "      <td>EGFP</td>\n",
       "      <td>1</td>\n",
       "      <td>720</td>\n",
       "      <td>2</td>\n",
       "      <td>0</td>\n",
       "      <td>NPXZP</td>\n",
       "      <td>eGFP.m3g3_8</td>\n",
       "      <td>3533953</td>\n",
       "      <td>0.000000</td>\n",
       "    </tr>\n",
       "    <tr>\n",
       "      <th>2</th>\n",
       "      <td>2</td>\n",
       "      <td>EGFP</td>\n",
       "      <td>1</td>\n",
       "      <td>720</td>\n",
       "      <td>3</td>\n",
       "      <td>0</td>\n",
       "      <td>NPXZP</td>\n",
       "      <td>eGFP.m3g3_8</td>\n",
       "      <td>3533953</td>\n",
       "      <td>0.000000</td>\n",
       "    </tr>\n",
       "    <tr>\n",
       "      <th>3</th>\n",
       "      <td>3</td>\n",
       "      <td>EGFP</td>\n",
       "      <td>1</td>\n",
       "      <td>720</td>\n",
       "      <td>4</td>\n",
       "      <td>0</td>\n",
       "      <td>NPXZP</td>\n",
       "      <td>eGFP.m3g3_8</td>\n",
       "      <td>3533953</td>\n",
       "      <td>0.000000</td>\n",
       "    </tr>\n",
       "    <tr>\n",
       "      <th>4</th>\n",
       "      <td>4</td>\n",
       "      <td>EGFP</td>\n",
       "      <td>1</td>\n",
       "      <td>720</td>\n",
       "      <td>5</td>\n",
       "      <td>0</td>\n",
       "      <td>NPXZP</td>\n",
       "      <td>eGFP.m3g3_8</td>\n",
       "      <td>3533953</td>\n",
       "      <td>0.000000</td>\n",
       "    </tr>\n",
       "    <tr>\n",
       "      <th>...</th>\n",
       "      <td>...</td>\n",
       "      <td>...</td>\n",
       "      <td>...</td>\n",
       "      <td>...</td>\n",
       "      <td>...</td>\n",
       "      <td>...</td>\n",
       "      <td>...</td>\n",
       "      <td>...</td>\n",
       "      <td>...</td>\n",
       "      <td>...</td>\n",
       "    </tr>\n",
       "    <tr>\n",
       "      <th>7904</th>\n",
       "      <td>714</td>\n",
       "      <td>EGFP</td>\n",
       "      <td>1</td>\n",
       "      <td>720</td>\n",
       "      <td>715</td>\n",
       "      <td>1</td>\n",
       "      <td>NPXZO</td>\n",
       "      <td>Luc-ET_2</td>\n",
       "      <td>4790542</td>\n",
       "      <td>0.208745</td>\n",
       "    </tr>\n",
       "    <tr>\n",
       "      <th>7905</th>\n",
       "      <td>715</td>\n",
       "      <td>EGFP</td>\n",
       "      <td>1</td>\n",
       "      <td>720</td>\n",
       "      <td>716</td>\n",
       "      <td>1</td>\n",
       "      <td>NPXZO</td>\n",
       "      <td>Luc-ET_2</td>\n",
       "      <td>4790542</td>\n",
       "      <td>0.208745</td>\n",
       "    </tr>\n",
       "    <tr>\n",
       "      <th>7906</th>\n",
       "      <td>716</td>\n",
       "      <td>EGFP</td>\n",
       "      <td>1</td>\n",
       "      <td>720</td>\n",
       "      <td>717</td>\n",
       "      <td>1</td>\n",
       "      <td>NPXZO</td>\n",
       "      <td>Luc-ET_2</td>\n",
       "      <td>4790542</td>\n",
       "      <td>0.208745</td>\n",
       "    </tr>\n",
       "    <tr>\n",
       "      <th>7907</th>\n",
       "      <td>717</td>\n",
       "      <td>EGFP</td>\n",
       "      <td>1</td>\n",
       "      <td>720</td>\n",
       "      <td>718</td>\n",
       "      <td>0</td>\n",
       "      <td>NPXZO</td>\n",
       "      <td>Luc-ET_2</td>\n",
       "      <td>4790542</td>\n",
       "      <td>0.000000</td>\n",
       "    </tr>\n",
       "    <tr>\n",
       "      <th>7908</th>\n",
       "      <td>718</td>\n",
       "      <td>EGFP</td>\n",
       "      <td>1</td>\n",
       "      <td>720</td>\n",
       "      <td>719</td>\n",
       "      <td>0</td>\n",
       "      <td>NPXZO</td>\n",
       "      <td>Luc-ET_2</td>\n",
       "      <td>4790542</td>\n",
       "      <td>0.000000</td>\n",
       "    </tr>\n",
       "  </tbody>\n",
       "</table>\n",
       "<p>7909 rows × 10 columns</p>\n",
       "</div>"
      ],
      "text/plain": [
       "      index target  e_start  e_end  position  sRNA_count library       sample  \\\n",
       "0         0   EGFP        1    720         1           0   NPXZP  eGFP.m3g3_8   \n",
       "1         1   EGFP        1    720         2           0   NPXZP  eGFP.m3g3_8   \n",
       "2         2   EGFP        1    720         3           0   NPXZP  eGFP.m3g3_8   \n",
       "3         3   EGFP        1    720         4           0   NPXZP  eGFP.m3g3_8   \n",
       "4         4   EGFP        1    720         5           0   NPXZP  eGFP.m3g3_8   \n",
       "...     ...    ...      ...    ...       ...         ...     ...          ...   \n",
       "7904    714   EGFP        1    720       715           1   NPXZO     Luc-ET_2   \n",
       "7905    715   EGFP        1    720       716           1   NPXZO     Luc-ET_2   \n",
       "7906    716   EGFP        1    720       717           1   NPXZO     Luc-ET_2   \n",
       "7907    717   EGFP        1    720       718           0   NPXZO     Luc-ET_2   \n",
       "7908    718   EGFP        1    720       719           0   NPXZO     Luc-ET_2   \n",
       "\n",
       "      lib_total       CPM  \n",
       "0       3533953  0.000000  \n",
       "1       3533953  0.000000  \n",
       "2       3533953  0.000000  \n",
       "3       3533953  0.000000  \n",
       "4       3533953  0.000000  \n",
       "...         ...       ...  \n",
       "7904    4790542  0.208745  \n",
       "7905    4790542  0.208745  \n",
       "7906    4790542  0.208745  \n",
       "7907    4790542  0.000000  \n",
       "7908    4790542  0.000000  \n",
       "\n",
       "[7909 rows x 10 columns]"
      ]
     },
     "execution_count": 7,
     "metadata": {},
     "output_type": "execute_result"
    }
   ],
   "source": [
    "sRNA_map['lib_total'] = sRNA_map[\"sample\"].map(Dict_total_sRNA)\n",
    "sRNA_map['CPM'] = (sRNA_map[\"sRNA_count\"] / sRNA_map[\"sample\"].map(Dict_total_sRNA))* 1000000\n",
    "sRNA_map.reset_index(inplace=True)\n",
    "sRNA_map"
   ]
  },
  {
   "cell_type": "markdown",
   "metadata": {},
   "source": [
    "### Vizualizing mapped reads"
   ]
  },
  {
   "cell_type": "markdown",
   "metadata": {},
   "source": [
    "### Figure 7d "
   ]
  },
  {
   "cell_type": "code",
   "execution_count": 12,
   "metadata": {},
   "outputs": [
    {
     "data": {
      "text/plain": [
       "<matplotlib.lines.Line2D at 0x7fe497dd3b50>"
      ]
     },
     "execution_count": 12,
     "metadata": {},
     "output_type": "execute_result"
    },
    {
     "data": {
      "text/plain": [
       "<matplotlib.lines.Line2D at 0x7fe48fb81ca0>"
      ]
     },
     "execution_count": 12,
     "metadata": {},
     "output_type": "execute_result"
    },
    {
     "data": {
      "text/plain": [
       "<matplotlib.lines.Line2D at 0x7fe48fb29c10>"
      ]
     },
     "execution_count": 12,
     "metadata": {},
     "output_type": "execute_result"
    },
    {
     "data": {
      "text/plain": [
       "[(0.0, 2000.0)]"
      ]
     },
     "execution_count": 12,
     "metadata": {},
     "output_type": "execute_result"
    },
    {
     "data": {
      "text/plain": [
       "Text(0.5, 1.0, 'sRNA mapping m3g3')"
      ]
     },
     "execution_count": 12,
     "metadata": {},
     "output_type": "execute_result"
    },
    {
     "data": {
      "text/plain": [
       "Text(0.5, 0, '')"
      ]
     },
     "execution_count": 12,
     "metadata": {},
     "output_type": "execute_result"
    },
    {
     "data": {
      "text/plain": [
       "Text(0, 0.5, 'sRNA CPM')"
      ]
     },
     "execution_count": 12,
     "metadata": {},
     "output_type": "execute_result"
    },
    {
     "data": {
      "text/plain": [
       "<matplotlib.lines.Line2D at 0x7fe48fbdc5b0>"
      ]
     },
     "execution_count": 12,
     "metadata": {},
     "output_type": "execute_result"
    },
    {
     "data": {
      "text/plain": [
       "[(0.0, 2000.0)]"
      ]
     },
     "execution_count": 12,
     "metadata": {},
     "output_type": "execute_result"
    },
    {
     "data": {
      "text/plain": [
       "Text(0.5, 1.0, 'sRNA mapping m6g1')"
      ]
     },
     "execution_count": 12,
     "metadata": {},
     "output_type": "execute_result"
    },
    {
     "data": {
      "text/plain": [
       "Text(0.5, 0, '')"
      ]
     },
     "execution_count": 12,
     "metadata": {},
     "output_type": "execute_result"
    },
    {
     "data": {
      "text/plain": [
       "Text(0, 0.5, ' ')"
      ]
     },
     "execution_count": 12,
     "metadata": {},
     "output_type": "execute_result"
    },
    {
     "data": {
      "text/plain": [
       "<matplotlib.patches.Polygon at 0x7fe48d917580>"
      ]
     },
     "execution_count": 12,
     "metadata": {},
     "output_type": "execute_result"
    },
    {
     "data": {
      "text/plain": [
       "[(0.0, 2000.0)]"
      ]
     },
     "execution_count": 12,
     "metadata": {},
     "output_type": "execute_result"
    },
    {
     "data": {
      "text/plain": [
       "Text(0.5, 1.0, 'sRNA mapping antisense')"
      ]
     },
     "execution_count": 12,
     "metadata": {},
     "output_type": "execute_result"
    },
    {
     "data": {
      "text/plain": [
       "Text(0, 0.5, 'sRNA CPM')"
      ]
     },
     "execution_count": 12,
     "metadata": {},
     "output_type": "execute_result"
    },
    {
     "data": {
      "text/plain": [
       "Text(0.5, 0, 'GFP mRNA bp')"
      ]
     },
     "execution_count": 12,
     "metadata": {},
     "output_type": "execute_result"
    },
    {
     "data": {
      "text/plain": [
       "[(0.0, 100.0)]"
      ]
     },
     "execution_count": 12,
     "metadata": {},
     "output_type": "execute_result"
    },
    {
     "data": {
      "text/plain": [
       "Text(0.5, 1.0, 'sRNA mapping LUC-NT')"
      ]
     },
     "execution_count": 12,
     "metadata": {},
     "output_type": "execute_result"
    },
    {
     "data": {
      "text/plain": [
       "Text(0.5, 0, 'GFP mRNA bp')"
      ]
     },
     "execution_count": 12,
     "metadata": {},
     "output_type": "execute_result"
    },
    {
     "data": {
      "text/plain": [
       "Text(0, 0.5, ' ')"
      ]
     },
     "execution_count": 12,
     "metadata": {},
     "output_type": "execute_result"
    },
    {
     "data": {
      "image/png": "[encoded data removed]",
      "text/plain": [
       "<Figure size 700x400 with 4 Axes>"
      ]
     },
     "metadata": {},
     "output_type": "display_data"
    }
   ],
   "source": [
    "to_plot_ordered = ('eGFP.m3g3_9', 'Egfp m6g1-2.v2_9',\n",
    "                   'eGFP.aseGFPv2_3', 'Luc-ET_2')\n",
    "\n",
    "fig, ax = plt.subplots(2,2, figsize=(7,4), squeeze=True)\n",
    "count = 0\n",
    "for j in range(2):\n",
    "    for i in range(2):\n",
    "        current= to_plot_ordered[count]\n",
    "        #lab = current #.split(\"_\", 1)[-1]\n",
    "        ax[j][i] = sns.lineplot(x=\"position\", y=sRNA_map.loc[sRNA_map['sample'] == current, 'CPM'],\n",
    "                               data=sRNA_map, ax=ax[j][i], color=\"blue\")\n",
    "        if 'm3g3' in current:\n",
    "            ax[j][i].axvline(315, color ='black', lw = 1.25, alpha = 0.75, linestyle='--')\n",
    "            ax[j][i].axvline(466, color ='black', lw = 1.25, alpha = 0.75, linestyle='--')\n",
    "            ax[j][i].axvline(609, color ='black', lw = 1.25, alpha = 0.75, linestyle='--')\n",
    "            ax[j][i].set(ylim=(0,2000))\n",
    "            ax[j][i].set_title(\"sRNA mapping m3g3\", size = 12)\n",
    "            ax[j][i].set_xlabel(\"\")\n",
    "            ax[j][i].set_ylabel(\"sRNA CPM\" ,size = 12)\n",
    "        elif 'm6g1' in current:\n",
    "            ax[j][i].axvline(466, color ='black', lw = 1.25, alpha = 0.75, linestyle='--')\n",
    "            ax[j][i].set(ylim=(0,2000))\n",
    "            ax[j][i].set_title(\"sRNA mapping m6g1\", size = 12)\n",
    "            ax[j][i].set_xlabel(\"\")\n",
    "            ax[j][i].set_ylabel(\" \")\n",
    "        #elif any([x in a_string for x in matches]):\n",
    "        elif 'aseGFP' in current or 'asGFP' in current:\n",
    "            ax[j][i].axvspan(26,525, color ='lightgrey', alpha = 0.75)\n",
    "            ax[j][i].set(ylim=(0,2000))\n",
    "            ax[j][i].set_title(\"sRNA mapping antisense\", size = 12)\n",
    "            ax[j][i].set_ylabel(\"sRNA CPM\" ,size = 12)\n",
    "            ax[j][i].set_xlabel(\"GFP mRNA bp\" ,size = 12)\n",
    "        else:\n",
    "            ax[j][i].set(ylim=(0,100))\n",
    "            ax[j][i].set_title(\"sRNA mapping LUC-NT\", size = 12)\n",
    "            ax[j][i].set_xlabel(\"GFP mRNA bp\" ,size = 12)\n",
    "            ax[j][i].set_ylabel(\" \")\n",
    "            pass \n",
    "        count += 1\n",
    "\n",
    "fig.tight_layout()\n",
    "plt.show()"
   ]
  },
  {
   "cell_type": "markdown",
   "metadata": {},
   "source": [
    "### Figure 7e"
   ]
  },
  {
   "cell_type": "code",
   "execution_count": 14,
   "metadata": {},
   "outputs": [
    {
     "data": {
      "text/html": [
       "<div>\n",
       "<style scoped>\n",
       "    .dataframe tbody tr th:only-of-type {\n",
       "        vertical-align: middle;\n",
       "    }\n",
       "\n",
       "    .dataframe tbody tr th {\n",
       "        vertical-align: top;\n",
       "    }\n",
       "\n",
       "    .dataframe thead th {\n",
       "        text-align: right;\n",
       "    }\n",
       "</style>\n",
       "<table border=\"1\" class=\"dataframe\">\n",
       "  <thead>\n",
       "    <tr style=\"text-align: right;\">\n",
       "      <th></th>\n",
       "      <th>index</th>\n",
       "      <th>target</th>\n",
       "      <th>e_start</th>\n",
       "      <th>e_end</th>\n",
       "      <th>position</th>\n",
       "      <th>sRNA_count</th>\n",
       "      <th>library</th>\n",
       "      <th>lib_total</th>\n",
       "      <th>CPM</th>\n",
       "    </tr>\n",
       "    <tr>\n",
       "      <th>sample</th>\n",
       "      <th></th>\n",
       "      <th></th>\n",
       "      <th></th>\n",
       "      <th></th>\n",
       "      <th></th>\n",
       "      <th></th>\n",
       "      <th></th>\n",
       "      <th></th>\n",
       "      <th></th>\n",
       "    </tr>\n",
       "  </thead>\n",
       "  <tbody>\n",
       "    <tr>\n",
       "      <th>Egfp m6g1-2.v2_8</th>\n",
       "      <td>293</td>\n",
       "      <td>293</td>\n",
       "      <td>293</td>\n",
       "      <td>293</td>\n",
       "      <td>293</td>\n",
       "      <td>293</td>\n",
       "      <td>293</td>\n",
       "      <td>293</td>\n",
       "      <td>293</td>\n",
       "    </tr>\n",
       "    <tr>\n",
       "      <th>Egfp m6g1-2.v2_9</th>\n",
       "      <td>310</td>\n",
       "      <td>310</td>\n",
       "      <td>310</td>\n",
       "      <td>310</td>\n",
       "      <td>310</td>\n",
       "      <td>310</td>\n",
       "      <td>310</td>\n",
       "      <td>310</td>\n",
       "      <td>310</td>\n",
       "    </tr>\n",
       "    <tr>\n",
       "      <th>Egfp m6g1-2_10</th>\n",
       "      <td>295</td>\n",
       "      <td>295</td>\n",
       "      <td>295</td>\n",
       "      <td>295</td>\n",
       "      <td>295</td>\n",
       "      <td>295</td>\n",
       "      <td>295</td>\n",
       "      <td>295</td>\n",
       "      <td>295</td>\n",
       "    </tr>\n",
       "    <tr>\n",
       "      <th>eGFP.asGFP.v2_4</th>\n",
       "      <td>536</td>\n",
       "      <td>536</td>\n",
       "      <td>536</td>\n",
       "      <td>536</td>\n",
       "      <td>536</td>\n",
       "      <td>536</td>\n",
       "      <td>536</td>\n",
       "      <td>536</td>\n",
       "      <td>536</td>\n",
       "    </tr>\n",
       "    <tr>\n",
       "      <th>eGFP.aseGFP.v2_5</th>\n",
       "      <td>565</td>\n",
       "      <td>565</td>\n",
       "      <td>565</td>\n",
       "      <td>565</td>\n",
       "      <td>565</td>\n",
       "      <td>565</td>\n",
       "      <td>565</td>\n",
       "      <td>565</td>\n",
       "      <td>565</td>\n",
       "    </tr>\n",
       "    <tr>\n",
       "      <th>eGFP.aseGFPv2_3</th>\n",
       "      <td>560</td>\n",
       "      <td>560</td>\n",
       "      <td>560</td>\n",
       "      <td>560</td>\n",
       "      <td>560</td>\n",
       "      <td>560</td>\n",
       "      <td>560</td>\n",
       "      <td>560</td>\n",
       "      <td>560</td>\n",
       "    </tr>\n",
       "    <tr>\n",
       "      <th>eGFP.m3g3.v2_6</th>\n",
       "      <td>265</td>\n",
       "      <td>265</td>\n",
       "      <td>265</td>\n",
       "      <td>265</td>\n",
       "      <td>265</td>\n",
       "      <td>265</td>\n",
       "      <td>265</td>\n",
       "      <td>265</td>\n",
       "      <td>265</td>\n",
       "    </tr>\n",
       "    <tr>\n",
       "      <th>eGFP.m3g3_8</th>\n",
       "      <td>380</td>\n",
       "      <td>380</td>\n",
       "      <td>380</td>\n",
       "      <td>380</td>\n",
       "      <td>380</td>\n",
       "      <td>380</td>\n",
       "      <td>380</td>\n",
       "      <td>380</td>\n",
       "      <td>380</td>\n",
       "    </tr>\n",
       "    <tr>\n",
       "      <th>eGFP.m3g3_9</th>\n",
       "      <td>409</td>\n",
       "      <td>409</td>\n",
       "      <td>409</td>\n",
       "      <td>409</td>\n",
       "      <td>409</td>\n",
       "      <td>409</td>\n",
       "      <td>409</td>\n",
       "      <td>409</td>\n",
       "      <td>409</td>\n",
       "    </tr>\n",
       "  </tbody>\n",
       "</table>\n",
       "</div>"
      ],
      "text/plain": [
       "                  index  target  e_start  e_end  position  sRNA_count  \\\n",
       "sample                                                                  \n",
       "Egfp m6g1-2.v2_8    293     293      293    293       293         293   \n",
       "Egfp m6g1-2.v2_9    310     310      310    310       310         310   \n",
       "Egfp m6g1-2_10      295     295      295    295       295         295   \n",
       "eGFP.asGFP.v2_4     536     536      536    536       536         536   \n",
       "eGFP.aseGFP.v2_5    565     565      565    565       565         565   \n",
       "eGFP.aseGFPv2_3     560     560      560    560       560         560   \n",
       "eGFP.m3g3.v2_6      265     265      265    265       265         265   \n",
       "eGFP.m3g3_8         380     380      380    380       380         380   \n",
       "eGFP.m3g3_9         409     409      409    409       409         409   \n",
       "\n",
       "                  library  lib_total  CPM  \n",
       "sample                                     \n",
       "Egfp m6g1-2.v2_8      293        293  293  \n",
       "Egfp m6g1-2.v2_9      310        310  310  \n",
       "Egfp m6g1-2_10        295        295  295  \n",
       "eGFP.asGFP.v2_4       536        536  536  \n",
       "eGFP.aseGFP.v2_5      565        565  565  \n",
       "eGFP.aseGFPv2_3       560        560  560  \n",
       "eGFP.m3g3.v2_6        265        265  265  \n",
       "eGFP.m3g3_8           380        380  380  \n",
       "eGFP.m3g3_9           409        409  409  "
      ]
     },
     "execution_count": 14,
     "metadata": {},
     "output_type": "execute_result"
    }
   ],
   "source": [
    "sRNA_map.loc[sRNA_map['CPM'] > 20].groupby(['sample']).count()"
   ]
  },
  {
   "cell_type": "code",
   "execution_count": 15,
   "metadata": {},
   "outputs": [],
   "source": [
    "g20_CPM = sRNA_map.loc[sRNA_map['CPM'] > 20].groupby(['sample']).count()\n",
    "g20_all = g20_CPM[['position', 'CPM']]\n",
    "g20_all = g20_all.reset_index()\n",
    "g20_all.loc[len(g20_all.index)] = ['Luc-ET_2', 0, 0]\n",
    "g20_all.loc[len(g20_all.index)] = ['Luc-ET_3', 0, 0]\n",
    "g20_all['trt'] = ['m6g1','m6g1','m6g1', 'asGFP', 'asGFP', 'asGFP', \n",
    "                  'm3g3','m3g3','m3g3', 'Luc-ET','Luc-ET']\n",
    "\n",
    "g20_all = g20_all.sort_values('trt')"
   ]
  },
  {
   "cell_type": "code",
   "execution_count": 19,
   "metadata": {},
   "outputs": [
    {
     "data": {
      "text/plain": [
       "Text(0.5, 0, '')"
      ]
     },
     "execution_count": 19,
     "metadata": {},
     "output_type": "execute_result"
    },
    {
     "data": {
      "text/plain": [
       "[Text(0, 0, 'Luc-ET'),\n",
       " Text(1, 0, 'asGFP'),\n",
       " Text(2, 0, 'm3g3'),\n",
       " Text(3, 0, 'm6g1')]"
      ]
     },
     "execution_count": 19,
     "metadata": {},
     "output_type": "execute_result"
    },
    {
     "data": {
      "text/plain": [
       "Text(0, 0.5, 'Number of bp with CPM >20')"
      ]
     },
     "execution_count": 19,
     "metadata": {},
     "output_type": "execute_result"
    },
    {
     "data": {
      "image/png": "[encoded data removed]",
      "text/plain": [
       "<Figure size 270x400 with 1 Axes>"
      ]
     },
     "metadata": {},
     "output_type": "display_data"
    }
   ],
   "source": [
    "fig, ax= plt.subplots(figsize=(2.7,4), squeeze=True)\n",
    "sns.set_style(\"whitegrid\", {'axes.grid': False})\n",
    "\n",
    "pal = ['b', 'gold', 'silver', 'whitesmoke']\n",
    "p2= sns.boxplot(data=g20_all, x='trt', y='CPM', palette=pal)\n",
    "\n",
    "# add the individual points of data, exclude the eGFP data point\n",
    "p2= sns.stripplot(data=g20_all, x='trt', y='CPM', \n",
    "              size=6, color=\"black\", linewidth=0, alpha=0.7)\n",
    "p2.set_xlabel(\"\")\n",
    "p2.set_xticklabels(ax.get_xticklabels(), rotation=30, size=12)\n",
    "p2.set_ylabel(\"Number of bp with CPM >20\", size=12)\n",
    "\n",
    "plt.rcParams['xtick.major.pad'] = 5\n",
    "\n",
    "fig.tight_layout()"
   ]
  },
  {
   "cell_type": "markdown",
   "metadata": {},
   "source": [
    "### Figure S4"
   ]
  },
  {
   "cell_type": "code",
   "execution_count": 9,
   "metadata": {
    "scrolled": false
   },
   "outputs": [
    {
     "data": {
      "text/plain": [
       "<function seaborn.rcmod.reset_orig()>"
      ]
     },
     "execution_count": 9,
     "metadata": {},
     "output_type": "execute_result"
    },
    {
     "data": {
      "text/plain": [
       "<matplotlib.lines.Line2D at 0x7fe48df482e0>"
      ]
     },
     "execution_count": 9,
     "metadata": {},
     "output_type": "execute_result"
    },
    {
     "data": {
      "text/plain": [
       "<matplotlib.lines.Line2D at 0x7fe498807190>"
      ]
     },
     "execution_count": 9,
     "metadata": {},
     "output_type": "execute_result"
    },
    {
     "data": {
      "text/plain": [
       "<matplotlib.lines.Line2D at 0x7fe48defad90>"
      ]
     },
     "execution_count": 9,
     "metadata": {},
     "output_type": "execute_result"
    },
    {
     "data": {
      "text/plain": [
       "[(0.0, 2000.0)]"
      ]
     },
     "execution_count": 9,
     "metadata": {},
     "output_type": "execute_result"
    },
    {
     "data": {
      "text/plain": [
       "Text(0.5, 1.0, 'eGFP.m3g3_8')"
      ]
     },
     "execution_count": 9,
     "metadata": {},
     "output_type": "execute_result"
    },
    {
     "data": {
      "text/plain": [
       "Text(0.5, 0, ' ')"
      ]
     },
     "execution_count": 9,
     "metadata": {},
     "output_type": "execute_result"
    },
    {
     "data": {
      "text/plain": [
       "Text(0, 0.5, 'smRNA CPM')"
      ]
     },
     "execution_count": 9,
     "metadata": {},
     "output_type": "execute_result"
    },
    {
     "data": {
      "text/plain": [
       "Text(0.5, 0, 'GFP mRNA bp')"
      ]
     },
     "execution_count": 9,
     "metadata": {},
     "output_type": "execute_result"
    },
    {
     "data": {
      "text/plain": [
       "<matplotlib.lines.Line2D at 0x7fe48dfb1fa0>"
      ]
     },
     "execution_count": 9,
     "metadata": {},
     "output_type": "execute_result"
    },
    {
     "data": {
      "text/plain": [
       "<matplotlib.lines.Line2D at 0x7fe48df09490>"
      ]
     },
     "execution_count": 9,
     "metadata": {},
     "output_type": "execute_result"
    },
    {
     "data": {
      "text/plain": [
       "<matplotlib.lines.Line2D at 0x7fe48deb5dc0>"
      ]
     },
     "execution_count": 9,
     "metadata": {},
     "output_type": "execute_result"
    },
    {
     "data": {
      "text/plain": [
       "[(0.0, 2000.0)]"
      ]
     },
     "execution_count": 9,
     "metadata": {},
     "output_type": "execute_result"
    },
    {
     "data": {
      "text/plain": [
       "Text(0.5, 1.0, 'eGFP.m3g3_9')"
      ]
     },
     "execution_count": 9,
     "metadata": {},
     "output_type": "execute_result"
    },
    {
     "data": {
      "text/plain": [
       "Text(0.5, 0, ' ')"
      ]
     },
     "execution_count": 9,
     "metadata": {},
     "output_type": "execute_result"
    },
    {
     "data": {
      "text/plain": [
       "Text(0, 0.5, 'smRNA CPM')"
      ]
     },
     "execution_count": 9,
     "metadata": {},
     "output_type": "execute_result"
    },
    {
     "data": {
      "text/plain": [
       "Text(0.5, 0, 'GFP mRNA bp')"
      ]
     },
     "execution_count": 9,
     "metadata": {},
     "output_type": "execute_result"
    },
    {
     "data": {
      "text/plain": [
       "<matplotlib.lines.Line2D at 0x7fe48df53f40>"
      ]
     },
     "execution_count": 9,
     "metadata": {},
     "output_type": "execute_result"
    },
    {
     "data": {
      "text/plain": [
       "<matplotlib.lines.Line2D at 0x7fe48debabe0>"
      ]
     },
     "execution_count": 9,
     "metadata": {},
     "output_type": "execute_result"
    },
    {
     "data": {
      "text/plain": [
       "<matplotlib.lines.Line2D at 0x7fe48dee2cd0>"
      ]
     },
     "execution_count": 9,
     "metadata": {},
     "output_type": "execute_result"
    },
    {
     "data": {
      "text/plain": [
       "[(0.0, 2000.0)]"
      ]
     },
     "execution_count": 9,
     "metadata": {},
     "output_type": "execute_result"
    },
    {
     "data": {
      "text/plain": [
       "Text(0.5, 1.0, 'eGFP.m3g3.v2_6')"
      ]
     },
     "execution_count": 9,
     "metadata": {},
     "output_type": "execute_result"
    },
    {
     "data": {
      "text/plain": [
       "Text(0.5, 0, ' ')"
      ]
     },
     "execution_count": 9,
     "metadata": {},
     "output_type": "execute_result"
    },
    {
     "data": {
      "text/plain": [
       "Text(0, 0.5, 'smRNA CPM')"
      ]
     },
     "execution_count": 9,
     "metadata": {},
     "output_type": "execute_result"
    },
    {
     "data": {
      "text/plain": [
       "Text(0.5, 0, 'GFP mRNA bp')"
      ]
     },
     "execution_count": 9,
     "metadata": {},
     "output_type": "execute_result"
    },
    {
     "data": {
      "text/plain": [
       "<matplotlib.lines.Line2D at 0x7fe48de7c310>"
      ]
     },
     "execution_count": 9,
     "metadata": {},
     "output_type": "execute_result"
    },
    {
     "data": {
      "text/plain": [
       "[(0.0, 2000.0)]"
      ]
     },
     "execution_count": 9,
     "metadata": {},
     "output_type": "execute_result"
    },
    {
     "data": {
      "text/plain": [
       "Text(0.5, 1.0, 'Egfp m6g1-2_10')"
      ]
     },
     "execution_count": 9,
     "metadata": {},
     "output_type": "execute_result"
    },
    {
     "data": {
      "text/plain": [
       "Text(0.5, 0, ' ')"
      ]
     },
     "execution_count": 9,
     "metadata": {},
     "output_type": "execute_result"
    },
    {
     "data": {
      "text/plain": [
       "Text(0, 0.5, 'smRNA CPM')"
      ]
     },
     "execution_count": 9,
     "metadata": {},
     "output_type": "execute_result"
    },
    {
     "data": {
      "text/plain": [
       "Text(0.5, 0, 'GFP mRNA bp')"
      ]
     },
     "execution_count": 9,
     "metadata": {},
     "output_type": "execute_result"
    },
    {
     "data": {
      "text/plain": [
       "<matplotlib.lines.Line2D at 0x7fe48de911f0>"
      ]
     },
     "execution_count": 9,
     "metadata": {},
     "output_type": "execute_result"
    },
    {
     "data": {
      "text/plain": [
       "[(0.0, 2000.0)]"
      ]
     },
     "execution_count": 9,
     "metadata": {},
     "output_type": "execute_result"
    },
    {
     "data": {
      "text/plain": [
       "Text(0.5, 1.0, 'Egfp m6g1-2.v2_9')"
      ]
     },
     "execution_count": 9,
     "metadata": {},
     "output_type": "execute_result"
    },
    {
     "data": {
      "text/plain": [
       "Text(0.5, 0, ' ')"
      ]
     },
     "execution_count": 9,
     "metadata": {},
     "output_type": "execute_result"
    },
    {
     "data": {
      "text/plain": [
       "Text(0, 0.5, 'smRNA CPM')"
      ]
     },
     "execution_count": 9,
     "metadata": {},
     "output_type": "execute_result"
    },
    {
     "data": {
      "text/plain": [
       "Text(0.5, 0, 'GFP mRNA bp')"
      ]
     },
     "execution_count": 9,
     "metadata": {},
     "output_type": "execute_result"
    },
    {
     "data": {
      "text/plain": [
       "<matplotlib.lines.Line2D at 0x7fe48dea7220>"
      ]
     },
     "execution_count": 9,
     "metadata": {},
     "output_type": "execute_result"
    },
    {
     "data": {
      "text/plain": [
       "[(0.0, 2000.0)]"
      ]
     },
     "execution_count": 9,
     "metadata": {},
     "output_type": "execute_result"
    },
    {
     "data": {
      "text/plain": [
       "Text(0.5, 1.0, 'Egfp m6g1-2.v2_8')"
      ]
     },
     "execution_count": 9,
     "metadata": {},
     "output_type": "execute_result"
    },
    {
     "data": {
      "text/plain": [
       "Text(0.5, 0, ' ')"
      ]
     },
     "execution_count": 9,
     "metadata": {},
     "output_type": "execute_result"
    },
    {
     "data": {
      "text/plain": [
       "Text(0, 0.5, 'smRNA CPM')"
      ]
     },
     "execution_count": 9,
     "metadata": {},
     "output_type": "execute_result"
    },
    {
     "data": {
      "text/plain": [
       "Text(0.5, 0, 'GFP mRNA bp')"
      ]
     },
     "execution_count": 9,
     "metadata": {},
     "output_type": "execute_result"
    },
    {
     "data": {
      "text/plain": [
       "<matplotlib.patches.Polygon at 0x7fe48de59730>"
      ]
     },
     "execution_count": 9,
     "metadata": {},
     "output_type": "execute_result"
    },
    {
     "data": {
      "text/plain": [
       "[(0.0, 2500.0)]"
      ]
     },
     "execution_count": 9,
     "metadata": {},
     "output_type": "execute_result"
    },
    {
     "data": {
      "text/plain": [
       "Text(0.5, 1.0, 'eGFP.aseGFPv2_3')"
      ]
     },
     "execution_count": 9,
     "metadata": {},
     "output_type": "execute_result"
    },
    {
     "data": {
      "text/plain": [
       "Text(0.5, 0, ' ')"
      ]
     },
     "execution_count": 9,
     "metadata": {},
     "output_type": "execute_result"
    },
    {
     "data": {
      "text/plain": [
       "Text(0, 0.5, 'smRNA CPM')"
      ]
     },
     "execution_count": 9,
     "metadata": {},
     "output_type": "execute_result"
    },
    {
     "data": {
      "text/plain": [
       "Text(0.5, 0, 'GFP mRNA bp')"
      ]
     },
     "execution_count": 9,
     "metadata": {},
     "output_type": "execute_result"
    },
    {
     "data": {
      "text/plain": [
       "<matplotlib.patches.Polygon at 0x7fe48de00910>"
      ]
     },
     "execution_count": 9,
     "metadata": {},
     "output_type": "execute_result"
    },
    {
     "data": {
      "text/plain": [
       "[(0.0, 2500.0)]"
      ]
     },
     "execution_count": 9,
     "metadata": {},
     "output_type": "execute_result"
    },
    {
     "data": {
      "text/plain": [
       "Text(0.5, 1.0, 'eGFP.asGFP.v2_4')"
      ]
     },
     "execution_count": 9,
     "metadata": {},
     "output_type": "execute_result"
    },
    {
     "data": {
      "text/plain": [
       "Text(0.5, 0, ' ')"
      ]
     },
     "execution_count": 9,
     "metadata": {},
     "output_type": "execute_result"
    },
    {
     "data": {
      "text/plain": [
       "Text(0, 0.5, 'smRNA CPM')"
      ]
     },
     "execution_count": 9,
     "metadata": {},
     "output_type": "execute_result"
    },
    {
     "data": {
      "text/plain": [
       "Text(0.5, 0, 'GFP mRNA bp')"
      ]
     },
     "execution_count": 9,
     "metadata": {},
     "output_type": "execute_result"
    },
    {
     "data": {
      "text/plain": [
       "<matplotlib.patches.Polygon at 0x7fe48de1c340>"
      ]
     },
     "execution_count": 9,
     "metadata": {},
     "output_type": "execute_result"
    },
    {
     "data": {
      "text/plain": [
       "[(0.0, 2500.0)]"
      ]
     },
     "execution_count": 9,
     "metadata": {},
     "output_type": "execute_result"
    },
    {
     "data": {
      "text/plain": [
       "Text(0.5, 1.0, 'eGFP.aseGFP.v2_5')"
      ]
     },
     "execution_count": 9,
     "metadata": {},
     "output_type": "execute_result"
    },
    {
     "data": {
      "text/plain": [
       "Text(0.5, 0, ' ')"
      ]
     },
     "execution_count": 9,
     "metadata": {},
     "output_type": "execute_result"
    },
    {
     "data": {
      "text/plain": [
       "Text(0, 0.5, 'smRNA CPM')"
      ]
     },
     "execution_count": 9,
     "metadata": {},
     "output_type": "execute_result"
    },
    {
     "data": {
      "text/plain": [
       "Text(0.5, 0, 'GFP mRNA bp')"
      ]
     },
     "execution_count": 9,
     "metadata": {},
     "output_type": "execute_result"
    },
    {
     "data": {
      "text/plain": [
       "[(0.0, 100.0)]"
      ]
     },
     "execution_count": 9,
     "metadata": {},
     "output_type": "execute_result"
    },
    {
     "data": {
      "text/plain": [
       "Text(0.5, 1.0, 'Luc-ET_2')"
      ]
     },
     "execution_count": 9,
     "metadata": {},
     "output_type": "execute_result"
    },
    {
     "data": {
      "text/plain": [
       "Text(0, 0.5, 'smRNA CPM')"
      ]
     },
     "execution_count": 9,
     "metadata": {},
     "output_type": "execute_result"
    },
    {
     "data": {
      "text/plain": [
       "Text(0.5, 0, 'GFP mRNA bp')"
      ]
     },
     "execution_count": 9,
     "metadata": {},
     "output_type": "execute_result"
    },
    {
     "data": {
      "text/plain": [
       "[(0.0, 100.0)]"
      ]
     },
     "execution_count": 9,
     "metadata": {},
     "output_type": "execute_result"
    },
    {
     "data": {
      "text/plain": [
       "Text(0.5, 1.0, 'Luc-ET_3')"
      ]
     },
     "execution_count": 9,
     "metadata": {},
     "output_type": "execute_result"
    },
    {
     "data": {
      "text/plain": [
       "Text(0, 0.5, 'smRNA CPM')"
      ]
     },
     "execution_count": 9,
     "metadata": {},
     "output_type": "execute_result"
    },
    {
     "data": {
      "text/plain": [
       "Text(0.5, 0, 'GFP mRNA bp')"
      ]
     },
     "execution_count": 9,
     "metadata": {},
     "output_type": "execute_result"
    },
    {
     "data": {
      "text/plain": [
       "(0.0, 1.0, 0.0, 1.0)"
      ]
     },
     "execution_count": 9,
     "metadata": {},
     "output_type": "execute_result"
    },
    {
     "data": {
      "image/png": "[encoded data removed]",
      "text/plain": [
       "<Figure size 1100x900 with 12 Axes>"
      ]
     },
     "metadata": {},
     "output_type": "display_data"
    }
   ],
   "source": [
    "sns.reset_orig\n",
    "to_plot_ordered = ('eGFP.m3g3_8', 'eGFP.m3g3_9', 'eGFP.m3g3.v2_6',\n",
    "                   'Egfp m6g1-2_10','Egfp m6g1-2.v2_9', 'Egfp m6g1-2.v2_8',\n",
    "                   'eGFP.aseGFPv2_3', 'eGFP.asGFP.v2_4','eGFP.aseGFP.v2_5',\n",
    "                   'Luc-ET_2', 'Luc-ET_3')\n",
    "\n",
    "fig, ax = plt.subplots(4,3, figsize=(11,9), squeeze=False)\n",
    "count = 0\n",
    "for j in range(4):\n",
    "    for i in range(3):\n",
    "        if j == 3:\n",
    "            if i > 1:\n",
    "                break\n",
    "        current= to_plot_ordered[count]\n",
    "        #lab = current #.split(\"_\", 1)[-1]\n",
    "        ax[j][i] = sns.lineplot(x=\"position\", y=sRNA_map.loc[sRNA_map['sample'] == current, 'CPM'],\n",
    "                               data=sRNA_map, ax=ax[j][i], color=\"blue\")\n",
    "        if 'm3g3' in current:\n",
    "            ax[j][i].axvline(315, color ='black', lw = 1.25, alpha = 0.75, linestyle='--')\n",
    "            ax[j][i].axvline(466, color ='black', lw = 1.25, alpha = 0.75, linestyle='--')\n",
    "            ax[j][i].axvline(609, color ='black', lw = 1.25, alpha = 0.75, linestyle='--')\n",
    "            ax[j][i].set(ylim=(0,2000))\n",
    "            ax[j][i].set_title(current)\n",
    "            ax[j][i].set_xlabel(\" \")\n",
    "        elif 'm6g1' in current:\n",
    "            ax[j][i].axvline(466, color ='black', lw = 1.25, alpha = 0.75, linestyle='--')\n",
    "            ax[j][i].set(ylim=(0,2000))\n",
    "            ax[j][i].set_title(current)\n",
    "            ax[j][i].set_xlabel(\" \")\n",
    "        #elif any([x in a_string for x in matches]):\n",
    "        elif 'aseGFP' in current or 'asGFP' in current:\n",
    "            ax[j][i].axvspan(26,525, color ='lightgrey', lw = 1.25, alpha = 0.55)\n",
    "            ax[j][i].set(ylim=(0,2500))\n",
    "            ax[j][i].set_title(current)\n",
    "            ax[j][i].set_xlabel(\" \")\n",
    "        else:\n",
    "            ax[j][i].set(ylim=(0,100))\n",
    "            ax[j][i].set_title(current)\n",
    "            pass \n",
    "\n",
    "        ax[j][i].set_ylabel(\"smRNA CPM\" ,size = 9)\n",
    "        ax[j][i].set_xlabel(\"GFP mRNA bp\" ,size = 9)\n",
    "        #ax[j][i].set(ylim=(0,2000))\n",
    "        count += 1\n",
    "\n",
    "ax[3, 2].axis('off')\n",
    "fig.tight_layout()"
   ]
  }
 ],
 "metadata": {
  "kernelspec": {
   "display_name": "Conda /homes/decook/miniconda3/envs/star",
   "language": "python",
   "name": "user_conda__homes_decook_miniconda3_envs_star"
  },
  "language_info": {
   "codemirror_mode": {
    "name": "ipython",
    "version": 3
   },
   "file_extension": ".py",
   "mimetype": "text/x-python",
   "name": "python",
   "nbconvert_exporter": "python",
   "pygments_lexer": "ipython3",
   "version": "3.8.16"
  }
 },
 "nbformat": 4,
 "nbformat_minor": 2
}
